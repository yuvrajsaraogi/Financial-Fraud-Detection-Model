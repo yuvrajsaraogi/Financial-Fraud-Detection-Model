{
 "cells": [
  {
   "cell_type": "markdown",
   "id": "3cbe2462",
   "metadata": {},
   "source": [
    "# Importing necessary libraries"
   ]
  },
  {
   "cell_type": "code",
   "execution_count": 1,
   "id": "e6de6195",
   "metadata": {},
   "outputs": [
    {
     "name": "stderr",
     "output_type": "stream",
     "text": [
      "C:\\Users\\Saket\\AppData\\Local\\Programs\\Python\\Python310\\lib\\site-packages\\requests\\__init__.py:102: RequestsDependencyWarning: urllib3 (2.2.1) or chardet (5.2.0)/charset_normalizer (3.3.2) doesn't match a supported version!\n",
      "  warnings.warn(\"urllib3 ({}) or chardet ({})/charset_normalizer ({}) doesn't match a supported \"\n"
     ]
    },
    {
     "name": "stdout",
     "output_type": "stream",
     "text": [
      "importing Jupyter notebook from DataPreProcessing.ipynb\n"
     ]
    }
   ],
   "source": [
    "import numpy as np\n",
    "import matplotlib.pyplot as plt\n",
    "import tensorflow as tf\n",
    "from tensorflow import keras\n",
    "from sklearn.metrics import confusion_matrix,accuracy_score\n",
    "from sklearn.metrics import classification_report\n",
    "import seaborn as sns \n",
    "from sklearn.metrics import roc_auc_score\n",
    "from sklearn.metrics import roc_curve\n",
    "from sklearn.metrics import precision_recall_curve,auc\n",
    "from sklearn.calibration import calibration_curve\n",
    "import import_ipynb\n",
    "from DataPreProcessing import new_df,X,y,X_train, X_test, y_train,y_test,sc"
   ]
  },
  {
   "cell_type": "markdown",
   "id": "e133c457",
   "metadata": {},
   "source": [
    " # Building and Training a Neural Network Model"
   ]
  },
  {
   "cell_type": "code",
   "execution_count": 2,
   "id": "04d77ba2",
   "metadata": {},
   "outputs": [
    {
     "name": "stdout",
     "output_type": "stream",
     "text": [
      "Epoch 1/5\n",
      "24576/24576 [==============================] - 41s 2ms/step - loss: 0.0102 - accuracy: 0.9978\n",
      "Epoch 2/5\n",
      "24576/24576 [==============================] - 48s 2ms/step - loss: 0.0049 - accuracy: 0.9991\n",
      "Epoch 3/5\n",
      "24576/24576 [==============================] - 42s 2ms/step - loss: 0.0045 - accuracy: 0.9992\n",
      "Epoch 4/5\n",
      "24576/24576 [==============================] - 45s 2ms/step - loss: 0.0043 - accuracy: 0.9992\n",
      "Epoch 5/5\n",
      "24576/24576 [==============================] - 51s 2ms/step - loss: 0.0042 - accuracy: 0.9992\n"
     ]
    },
    {
     "data": {
      "text/plain": [
       "<keras.callbacks.History at 0x23691792e00>"
      ]
     },
     "execution_count": 2,
     "metadata": {},
     "output_type": "execute_result"
    }
   ],
   "source": [
    "model = keras.Sequential([\n",
    "    keras.layers.Dense(20, input_shape=(4,), activation='relu'),\n",
    "    keras.layers.Dense(1, activation='sigmoid')\n",
    "])\n",
    "\n",
    "model.compile(optimizer='adam',\n",
    "             loss = 'binary_crossentropy',\n",
    "             metrics=['accuracy'])\n",
    "model.fit(X_train,y_train, epochs=5)"
   ]
  },
  {
   "cell_type": "markdown",
   "id": "9c974905",
   "metadata": {},
   "source": [
    "## To Check if the model is overfitting or underfitting"
   ]
  },
  {
   "cell_type": "code",
   "execution_count": 3,
   "id": "04e5462d",
   "metadata": {},
   "outputs": [
    {
     "name": "stdout",
     "output_type": "stream",
     "text": [
      "24576/24576 [==============================] - 32s 1ms/step\n",
      "8192/8192 [==============================] - 13s 2ms/step\n"
     ]
    }
   ],
   "source": [
    " \n",
    "y_train_pred_ann = model.predict(X_train)\n",
    "y_val_pred_ann = model.predict(X_test)\n",
    "\n",
    "# Convert predictions to binary format (0 or 1)\n",
    "y_train_pred_ann_binary = np.where(y_train_pred_ann > 0.5, 1, 0)\n",
    "y_test_pred_ann_binary = np.where(y_val_pred_ann > 0.5, 1, 0)\n",
    "\n",
    "# Calculate accuracy scores\n",
    "train_accuracy_ann = accuracy_score(y_train, y_train_pred_ann_binary)\n",
    "val_accuracy_ann = accuracy_score(y_test, y_test_pred_ann_binary)"
   ]
  },
  {
   "cell_type": "code",
   "execution_count": 4,
   "id": "066cb185",
   "metadata": {},
   "outputs": [
    {
     "name": "stdout",
     "output_type": "stream",
     "text": [
      "Training Accuracy: 1\n",
      "Validation Accuracy: 1\n"
     ]
    }
   ],
   "source": [
    "train_accuracy = round(train_accuracy_ann)\n",
    "val_accuracy = round(val_accuracy_ann)\n",
    "print(\"Training Accuracy:\", train_accuracy )\n",
    "print(\"Validation Accuracy:\",  val_accuracy)\n"
   ]
  },
  {
   "cell_type": "code",
   "execution_count": 5,
   "id": "d26ff257",
   "metadata": {},
   "outputs": [
    {
     "name": "stdout",
     "output_type": "stream",
     "text": [
      "The model's performance on training and validation sets are similar\n"
     ]
    }
   ],
   "source": [
    "if train_accuracy > val_accuracy:\n",
    "    print(\"The model may be overfitting.\")\n",
    "elif train_accuracy < val_accuracy:\n",
    "    print(\"The model may be underfitting.\")\n",
    "else:\n",
    "    print(\"The model's performance on training and validation sets are similar\")\n"
   ]
  },
  {
   "cell_type": "markdown",
   "id": "26545bbb",
   "metadata": {},
   "source": [
    "# Predicting a new result"
   ]
  },
  {
   "cell_type": "code",
   "execution_count": 6,
   "id": "782ca6b8",
   "metadata": {},
   "outputs": [
    {
     "name": "stdout",
     "output_type": "stream",
     "text": [
      "1/1 [==============================] - 0s 45ms/step\n"
     ]
    },
    {
     "data": {
      "text/plain": [
       "array([[0.]], dtype=float32)"
      ]
     },
     "execution_count": 6,
     "metadata": {},
     "output_type": "execute_result"
    }
   ],
   "source": [
    "model.predict([[1,9839.64, 170136.0,160296.36]])"
   ]
  },
  {
   "cell_type": "code",
   "execution_count": 7,
   "id": "bb34593b",
   "metadata": {},
   "outputs": [
    {
     "name": "stdout",
     "output_type": "stream",
     "text": [
      "1/1 [==============================] - 0s 44ms/step\n"
     ]
    },
    {
     "data": {
      "text/plain": [
       "array([[1.]], dtype=float32)"
      ]
     },
     "execution_count": 7,
     "metadata": {},
     "output_type": "execute_result"
    }
   ],
   "source": [
    "model.predict([[4,181.00, 181.00,0.00]])"
   ]
  },
  {
   "cell_type": "markdown",
   "id": "8f4a50c5",
   "metadata": {},
   "source": [
    "# Prediciting the test set results"
   ]
  },
  {
   "cell_type": "code",
   "execution_count": 8,
   "id": "3e6d9354",
   "metadata": {},
   "outputs": [
    {
     "name": "stdout",
     "output_type": "stream",
     "text": [
      "8192/8192 [==============================] - 15s 2ms/step\n"
     ]
    }
   ],
   "source": [
    "y_pred = model.predict(X_test)"
   ]
  },
  {
   "cell_type": "code",
   "execution_count": 9,
   "id": "cf4c21c3",
   "metadata": {},
   "outputs": [],
   "source": [
    "threshold = 0.5   #A threshold of 0.5 is often chosen when there is no specific preference for precision or recall. \n",
    "                  #It provides a balanced trade-off between the two metrics.\n",
    "y_pred_binary = np.where(y_pred >= threshold, 1, 0)"
   ]
  },
  {
   "cell_type": "code",
   "execution_count": 10,
   "id": "5ccca786",
   "metadata": {},
   "outputs": [
    {
     "name": "stdout",
     "output_type": "stream",
     "text": [
      "[[0 0]\n",
      " [0 0]\n",
      " [0 0]\n",
      " ...\n",
      " [0 0]\n",
      " [0 0]\n",
      " [0 0]]\n"
     ]
    }
   ],
   "source": [
    "print(np.concatenate((y_pred_binary.reshape(len(y_pred_binary), 1),y_test.reshape(len(y_test), 1)),1))"
   ]
  },
  {
   "cell_type": "markdown",
   "id": "dcc2fb8f",
   "metadata": {},
   "source": [
    "# Accuracy"
   ]
  },
  {
   "cell_type": "code",
   "execution_count": 11,
   "id": "3469a2fb",
   "metadata": {},
   "outputs": [
    {
     "data": {
      "text/plain": [
       "99.93"
      ]
     },
     "execution_count": 11,
     "metadata": {},
     "output_type": "execute_result"
    }
   ],
   "source": [
    "accuracy = accuracy_score(y_test,y_pred_binary)\n",
    "round(accuracy*100,2)"
   ]
  },
  {
   "cell_type": "markdown",
   "id": "8d0b2856",
   "metadata": {},
   "source": [
    "# Classification Report"
   ]
  },
  {
   "cell_type": "code",
   "execution_count": 12,
   "id": "d590c2cc",
   "metadata": {},
   "outputs": [
    {
     "name": "stdout",
     "output_type": "stream",
     "text": [
      "              precision    recall  f1-score   support\n",
      "\n",
      "           0       1.00      1.00      1.00    261865\n",
      "           1       0.99      0.30      0.46       279\n",
      "\n",
      "    accuracy                           1.00    262144\n",
      "   macro avg       0.99      0.65      0.73    262144\n",
      "weighted avg       1.00      1.00      1.00    262144\n",
      "\n"
     ]
    },
    {
     "data": {
      "text/plain": [
       "'\\n0- No Fraud\\n1- Fraud\\n'"
      ]
     },
     "execution_count": 12,
     "metadata": {},
     "output_type": "execute_result"
    }
   ],
   "source": [
    "print(classification_report(y_test, y_pred_binary))\n",
    "\n",
    "'''\n",
    "0- No Fraud\n",
    "1- Fraud\n",
    "'''"
   ]
  },
  {
   "cell_type": "markdown",
   "id": "7db62e32",
   "metadata": {},
   "source": [
    "# ROC Curve"
   ]
  },
  {
   "cell_type": "code",
   "execution_count": 13,
   "id": "bfef49b4",
   "metadata": {},
   "outputs": [
    {
     "name": "stdout",
     "output_type": "stream",
     "text": [
      "8192/8192 [==============================] - 11s 1ms/step\n"
     ]
    },
    {
     "data": {
      "image/png": "[encoded data removed]",
      "text/plain": [
       "<Figure size 432x288 with 1 Axes>"
      ]
     },
     "metadata": {
      "needs_background": "light"
     },
     "output_type": "display_data"
    }
   ],
   "source": [
    " \n",
    "# Make predictions on the test set\n",
    "y_pred_proba = model.predict(X_test)\n",
    "\n",
    "# Calculate ROC AUC score\n",
    "ann_roc_auc = roc_auc_score(y_test, y_pred_proba)\n",
    "\n",
    "# Calculate ROC curve\n",
    "fpr, tpr, thresholds = roc_curve(y_test, y_pred_proba)\n",
    "\n",
    "# Plot ROC curve\n",
    "plt.figure()\n",
    "plt.plot(fpr, tpr, label='ANN Classifier (area = %0.2f)' % ann_roc_auc)\n",
    "plt.plot([0, 1], [0, 1],'r--')\n",
    "plt.xlim([0.0, 1.0])\n",
    "plt.ylim([0.0, 1.05])\n",
    "plt.xlabel('False Positive Rate')\n",
    "plt.ylabel('True Positive Rate')\n",
    "plt.title('Receiver Operating Characteristic')\n",
    "plt.legend(loc=\"lower right\")\n",
    "plt.savefig('ANN_ROC')\n",
    "plt.show()\n"
   ]
  },
  {
   "cell_type": "markdown",
   "id": "bed74da8",
   "metadata": {},
   "source": [
    "# Precision-Recall Curve"
   ]
  },
  {
   "cell_type": "code",
   "execution_count": 14,
   "id": "3f613cb9",
   "metadata": {},
   "outputs": [
    {
     "name": "stdout",
     "output_type": "stream",
     "text": [
      "24576/24576 [==============================] - 35s 1ms/step\n"
     ]
    },
    {
     "data": {
      "image/png": "[encoded data removed]",
      "text/plain": [
       "<Figure size 432x288 with 1 Axes>"
      ]
     },
     "metadata": {
      "needs_background": "light"
     },
     "output_type": "display_data"
    },
    {
     "name": "stdout",
     "output_type": "stream",
     "text": [
      "AUC-PRC: 0.4943540890801886\n"
     ]
    }
   ],
   "source": [
    "y_prob_train_ann = model.predict(X_train)\n",
    "\n",
    "# Calculate precision-recall curve\n",
    "precision_ann, recall_ann, _ = precision_recall_curve(y_train, y_prob_train_ann)\n",
    "\n",
    "# Plot precision-recall curve\n",
    "plt.fill_between(recall_ann, precision_ann)\n",
    "plt.ylabel(\"Precision\")\n",
    "plt.xlabel(\"Recall\")\n",
    "plt.title(\"Train Precision-Recall curve\")\n",
    "plt.show()\n",
    "from sklearn.metrics import precision_recall_curve, auc\n",
    "auc_prc = auc(recall_ann, precision_ann)\n",
    "print(\"AUC-PRC:\", auc_prc)"
   ]
  },
  {
   "cell_type": "markdown",
   "id": "7789840e",
   "metadata": {},
   "source": [
    "# Confusion Matrix"
   ]
  },
  {
   "cell_type": "code",
   "execution_count": 15,
   "id": "b07dbc2f",
   "metadata": {},
   "outputs": [
    {
     "data": {
      "image/png": "[encoded data removed]",
      "text/plain": [
       "<Figure size 576x432 with 1 Axes>"
      ]
     },
     "metadata": {
      "needs_background": "light"
     },
     "output_type": "display_data"
    }
   ],
   "source": [
    "# Compute confusion matrix\n",
    "cm = confusion_matrix(y_test, y_pred_binary)\n",
    "\n",
    "# Plot confusion matrix\n",
    "plt.figure(figsize=(8, 6))\n",
    "sns.heatmap(cm, annot=True, fmt='d', cmap='Blues', cbar=False)\n",
    "plt.xlabel('Predicted labels')\n",
    "plt.ylabel('True labels')\n",
    "plt.title('Confusion Matrix')\n",
    "plt.show()\n"
   ]
  },
  {
   "cell_type": "markdown",
   "id": "116854b5",
   "metadata": {},
   "source": [
    "# Calibration Curve"
   ]
  },
  {
   "cell_type": "code",
   "execution_count": 16,
   "id": "db9acb5a",
   "metadata": {},
   "outputs": [
    {
     "name": "stdout",
     "output_type": "stream",
     "text": [
      "24576/24576 [==============================] - 33s 1ms/step\n"
     ]
    },
    {
     "data": {
      "image/png": "[encoded data removed]",
      "text/plain": [
       "<Figure size 432x288 with 1 Axes>"
      ]
     },
     "metadata": {
      "needs_background": "light"
     },
     "output_type": "display_data"
    }
   ],
   "source": [
    "# Get predicted probabilities for the training set\n",
    "y_prob_train_ann = model.predict(X_train)\n",
    "\n",
    "# Calculate calibration curve\n",
    "prob_true, prob_pred = calibration_curve(y_train, y_prob_train_ann, n_bins=10)\n",
    "\n",
    "# Plot calibration curve\n",
    "plt.plot(prob_pred, prob_true, marker='o', linestyle='-', label='Calibration Curve')\n",
    "plt.plot([0, 1], [0, 1], linestyle='--', color='gray', label='Perfectly calibrated')\n",
    "plt.xlabel('Mean Predicted Probability')\n",
    "plt.ylabel('Fraction of Positives')\n",
    "plt.title('Calibration Curve')\n",
    "plt.legend()\n",
    "plt.show()\n"
   ]
  }
 ],
 "metadata": {
  "kernelspec": {
   "display_name": "Python 3 (ipykernel)",
   "language": "python",
   "name": "python3"
  },
  "language_info": {
   "codemirror_mode": {
    "name": "ipython",
    "version": 3
   },
   "file_extension": ".py",
   "mimetype": "text/x-python",
   "name": "python",
   "nbconvert_exporter": "python",
   "pygments_lexer": "ipython3",
   "version": "3.10.0"
  }
 },
 "nbformat": 4,
 "nbformat_minor": 5
}
