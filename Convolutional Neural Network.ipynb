{
 "cells": [
  {
   "cell_type": "markdown",
   "id": "ea0da6d2",
   "metadata": {},
   "source": [
    "# Importing necessary libraries"
   ]
  },
  {
   "cell_type": "code",
   "execution_count": 1,
   "id": "befcb8fb",
   "metadata": {},
   "outputs": [
    {
     "name": "stderr",
     "output_type": "stream",
     "text": [
      "C:\\Users\\Saket\\AppData\\Local\\Programs\\Python\\Python310\\lib\\site-packages\\requests\\__init__.py:102: RequestsDependencyWarning: urllib3 (2.2.1) or chardet (5.2.0)/charset_normalizer (3.3.2) doesn't match a supported version!\n",
      "  warnings.warn(\"urllib3 ({}) or chardet ({})/charset_normalizer ({}) doesn't match a supported \"\n"
     ]
    }
   ],
   "source": [
    "import tensorflow as tf\n",
    "from tensorflow import keras\n",
    "from tensorflow.keras import Sequential\n",
    "from tensorflow.keras.layers import Flatten, Dense, Dropout,BatchNormalization\n",
    "from tensorflow.keras.layers import Conv1D, MaxPool1D\n",
    "from tensorflow.keras.optimizers import Adam"
   ]
  },
  {
   "cell_type": "code",
   "execution_count": 2,
   "id": "f6a659c9",
   "metadata": {},
   "outputs": [
    {
     "name": "stdout",
     "output_type": "stream",
     "text": [
      "importing Jupyter notebook from DataPreProcessing.ipynb\n"
     ]
    }
   ],
   "source": [
    "import numpy as np\n",
    "import matplotlib.pyplot as plt\n",
    "import tensorflow as tf\n",
    "from sklearn.metrics import confusion_matrix,accuracy_score\n",
    "from sklearn.metrics import classification_report\n",
    "import seaborn as sns \n",
    "from sklearn.metrics import roc_auc_score\n",
    "from sklearn.metrics import roc_curve\n",
    "from sklearn.metrics import precision_recall_curve,auc\n",
    "from sklearn.calibration import calibration_curve\n",
    "import import_ipynb\n",
    "from DataPreProcessing import new_df,X,y,X_train, X_test, y_train,y_test,sc"
   ]
  },
  {
   "cell_type": "markdown",
   "id": "0ac50027",
   "metadata": {},
   "source": [
    "# Separate the dataset into non-fraudulent and fraudulent transactions"
   ]
  },
  {
   "cell_type": "code",
   "execution_count": 3,
   "id": "28de64a9",
   "metadata": {},
   "outputs": [],
   "source": [
    "non_fraud = new_df[new_df['isFraud'] == 0]\n",
    "fraud = new_df[new_df['isFraud'] == 1]"
   ]
  },
  {
   "cell_type": "markdown",
   "id": "5ecc5c01",
   "metadata": {},
   "source": [
    "# Display the shapes of the non-fraudulent and fraudulent datasets"
   ]
  },
  {
   "cell_type": "code",
   "execution_count": 4,
   "id": "7276a64d",
   "metadata": {},
   "outputs": [
    {
     "data": {
      "text/plain": [
       "((1047433, 5), (1142, 5))"
      ]
     },
     "execution_count": 4,
     "metadata": {},
     "output_type": "execute_result"
    }
   ],
   "source": [
    "non_fraud.shape, fraud.shape"
   ]
  },
  {
   "cell_type": "markdown",
   "id": "6c6910c4",
   "metadata": {},
   "source": [
    "# Randomly sample the non-fraudulent dataset to match the size of the fraudulent dataset"
   ]
  },
  {
   "cell_type": "code",
   "execution_count": 5,
   "id": "2432498d",
   "metadata": {},
   "outputs": [
    {
     "data": {
      "text/plain": [
       "(1142, 5)"
      ]
     },
     "execution_count": 5,
     "metadata": {},
     "output_type": "execute_result"
    }
   ],
   "source": [
    "non_fraud = non_fraud.sample(fraud.shape[0])\n",
    "non_fraud.shape"
   ]
  },
  {
   "cell_type": "markdown",
   "id": "8abb8f40",
   "metadata": {},
   "source": [
    "#  Combine fraud and non-fraud datasets to create a balanced dataset"
   ]
  },
  {
   "cell_type": "code",
   "execution_count": 6,
   "id": "77f64070",
   "metadata": {},
   "outputs": [
    {
     "name": "stderr",
     "output_type": "stream",
     "text": [
      "C:\\Users\\Saket\\AppData\\Local\\Temp\\ipykernel_68016\\1994287645.py:1: FutureWarning: The frame.append method is deprecated and will be removed from pandas in a future version. Use pandas.concat instead.\n",
      "  data = fraud.append(non_fraud, ignore_index=True)\n"
     ]
    }
   ],
   "source": [
    "data = fraud.append(non_fraud, ignore_index=True)"
   ]
  },
  {
   "cell_type": "code",
   "execution_count": 7,
   "id": "3028b822",
   "metadata": {},
   "outputs": [
    {
     "data": {
      "text/html": [
       "<div>\n",
       "<style scoped>\n",
       "    .dataframe tbody tr th:only-of-type {\n",
       "        vertical-align: middle;\n",
       "    }\n",
       "\n",
       "    .dataframe tbody tr th {\n",
       "        vertical-align: top;\n",
       "    }\n",
       "\n",
       "    .dataframe thead th {\n",
       "        text-align: right;\n",
       "    }\n",
       "</style>\n",
       "<table border=\"1\" class=\"dataframe\">\n",
       "  <thead>\n",
       "    <tr style=\"text-align: right;\">\n",
       "      <th></th>\n",
       "      <th>type</th>\n",
       "      <th>amount</th>\n",
       "      <th>oldbalanceOrg</th>\n",
       "      <th>newbalanceOrig</th>\n",
       "      <th>isFraud</th>\n",
       "    </tr>\n",
       "  </thead>\n",
       "  <tbody>\n",
       "    <tr>\n",
       "      <th>0</th>\n",
       "      <td>4</td>\n",
       "      <td>181.00</td>\n",
       "      <td>181.00</td>\n",
       "      <td>0.00</td>\n",
       "      <td>1</td>\n",
       "    </tr>\n",
       "    <tr>\n",
       "      <th>1</th>\n",
       "      <td>2</td>\n",
       "      <td>181.00</td>\n",
       "      <td>181.00</td>\n",
       "      <td>0.00</td>\n",
       "      <td>1</td>\n",
       "    </tr>\n",
       "    <tr>\n",
       "      <th>2</th>\n",
       "      <td>4</td>\n",
       "      <td>2806.00</td>\n",
       "      <td>2806.00</td>\n",
       "      <td>0.00</td>\n",
       "      <td>1</td>\n",
       "    </tr>\n",
       "    <tr>\n",
       "      <th>3</th>\n",
       "      <td>2</td>\n",
       "      <td>2806.00</td>\n",
       "      <td>2806.00</td>\n",
       "      <td>0.00</td>\n",
       "      <td>1</td>\n",
       "    </tr>\n",
       "    <tr>\n",
       "      <th>4</th>\n",
       "      <td>4</td>\n",
       "      <td>20128.00</td>\n",
       "      <td>20128.00</td>\n",
       "      <td>0.00</td>\n",
       "      <td>1</td>\n",
       "    </tr>\n",
       "    <tr>\n",
       "      <th>...</th>\n",
       "      <td>...</td>\n",
       "      <td>...</td>\n",
       "      <td>...</td>\n",
       "      <td>...</td>\n",
       "      <td>...</td>\n",
       "    </tr>\n",
       "    <tr>\n",
       "      <th>2279</th>\n",
       "      <td>2</td>\n",
       "      <td>75652.56</td>\n",
       "      <td>2982.00</td>\n",
       "      <td>0.00</td>\n",
       "      <td>0</td>\n",
       "    </tr>\n",
       "    <tr>\n",
       "      <th>2280</th>\n",
       "      <td>3</td>\n",
       "      <td>46892.87</td>\n",
       "      <td>4507217.16</td>\n",
       "      <td>4554110.03</td>\n",
       "      <td>0</td>\n",
       "    </tr>\n",
       "    <tr>\n",
       "      <th>2281</th>\n",
       "      <td>1</td>\n",
       "      <td>30340.89</td>\n",
       "      <td>38799.00</td>\n",
       "      <td>8458.11</td>\n",
       "      <td>0</td>\n",
       "    </tr>\n",
       "    <tr>\n",
       "      <th>2282</th>\n",
       "      <td>3</td>\n",
       "      <td>286090.05</td>\n",
       "      <td>5522178.61</td>\n",
       "      <td>5808268.66</td>\n",
       "      <td>0</td>\n",
       "    </tr>\n",
       "    <tr>\n",
       "      <th>2283</th>\n",
       "      <td>1</td>\n",
       "      <td>20454.15</td>\n",
       "      <td>0.00</td>\n",
       "      <td>0.00</td>\n",
       "      <td>0</td>\n",
       "    </tr>\n",
       "  </tbody>\n",
       "</table>\n",
       "<p>2284 rows × 5 columns</p>\n",
       "</div>"
      ],
      "text/plain": [
       "      type     amount  oldbalanceOrg  newbalanceOrig  isFraud\n",
       "0        4     181.00         181.00            0.00        1\n",
       "1        2     181.00         181.00            0.00        1\n",
       "2        4    2806.00        2806.00            0.00        1\n",
       "3        2    2806.00        2806.00            0.00        1\n",
       "4        4   20128.00       20128.00            0.00        1\n",
       "...    ...        ...            ...             ...      ...\n",
       "2279     2   75652.56        2982.00            0.00        0\n",
       "2280     3   46892.87     4507217.16      4554110.03        0\n",
       "2281     1   30340.89       38799.00         8458.11        0\n",
       "2282     3  286090.05     5522178.61      5808268.66        0\n",
       "2283     1   20454.15           0.00            0.00        0\n",
       "\n",
       "[2284 rows x 5 columns]"
      ]
     },
     "execution_count": 7,
     "metadata": {},
     "output_type": "execute_result"
    }
   ],
   "source": [
    "data"
   ]
  },
  {
   "cell_type": "markdown",
   "id": "0868537d",
   "metadata": {},
   "source": [
    "# Count the number of fraudulent (1) and non-fraudulent (0) transactions in the combined dataset\n"
   ]
  },
  {
   "cell_type": "code",
   "execution_count": 8,
   "id": "63bcc73a",
   "metadata": {},
   "outputs": [
    {
     "data": {
      "text/plain": [
       "1    1142\n",
       "0    1142\n",
       "Name: isFraud, dtype: int64"
      ]
     },
     "execution_count": 8,
     "metadata": {},
     "output_type": "execute_result"
    }
   ],
   "source": [
    "data['isFraud'].value_counts()"
   ]
  },
  {
   "cell_type": "markdown",
   "id": "b5e51fd3",
   "metadata": {},
   "source": [
    "# Convert y_train and y_test to numpy arrays\n"
   ]
  },
  {
   "cell_type": "code",
   "execution_count": 9,
   "id": "9622a2f8",
   "metadata": {},
   "outputs": [],
   "source": [
    "y_train = np.array(y_train)\n",
    "y_test = np.array(y_test)"
   ]
  },
  {
   "cell_type": "markdown",
   "id": "6640e7fa",
   "metadata": {},
   "source": [
    " # Reshape X_train and X_test to include a third dimension for compatibility with convolutional neural networks\n"
   ]
  },
  {
   "cell_type": "code",
   "execution_count": 10,
   "id": "b96ba8eb",
   "metadata": {},
   "outputs": [],
   "source": [
    "X_train = X_train.reshape(X_train.shape[0], X_train.shape[1], 1)\n",
    "X_test = X_test.reshape(X_test.shape[0], X_test.shape[1], 1)"
   ]
  },
  {
   "cell_type": "markdown",
   "id": "933ffe31",
   "metadata": {},
   "source": [
    "# Display the new shapes of X_train and X_test after reshaping\n"
   ]
  },
  {
   "cell_type": "code",
   "execution_count": 11,
   "id": "f459d43d",
   "metadata": {},
   "outputs": [
    {
     "data": {
      "text/plain": [
       "((786431, 4, 1), (262144, 4, 1))"
      ]
     },
     "execution_count": 11,
     "metadata": {},
     "output_type": "execute_result"
    }
   ],
   "source": [
    "X_train.shape, X_test.shape\n"
   ]
  },
  {
   "cell_type": "markdown",
   "id": "bb40c841",
   "metadata": {},
   "source": [
    "# Defining the architecture of a Convolutional Neural Network (CNN) "
   ]
  },
  {
   "cell_type": "code",
   "execution_count": 12,
   "id": "c9455687",
   "metadata": {},
   "outputs": [],
   "source": [
    "epochs = 20\n",
    "model = Sequential()\n",
    "model.add(Conv1D(32,2, activation= 'relu', input_shape = X_train[0].shape)) \n",
    "model.add(BatchNormalization())\n",
    "model.add(Dropout(0.2))\n",
    "\n",
    "\n",
    "model.add(Conv1D(64,2,activation='relu'))\n",
    "model.add(BatchNormalization())\n",
    "model.add(Dropout(0.5))\n",
    "\n",
    "model.add(Flatten())\n",
    "model.add(Dense(64,activation='relu'))\n",
    "model.add(Dropout(0.5))\n",
    "\n",
    "model.add(Dense(1,activation='sigmoid'))"
   ]
  },
  {
   "cell_type": "markdown",
   "id": "a6693706",
   "metadata": {},
   "source": [
    "# Display a summary of the model architecture, including layer types, output shapes, and number of parameters\n"
   ]
  },
  {
   "cell_type": "code",
   "execution_count": 13,
   "id": "9d2b98ec",
   "metadata": {},
   "outputs": [
    {
     "name": "stdout",
     "output_type": "stream",
     "text": [
      "Model: \"sequential\"\n",
      "_________________________________________________________________\n",
      " Layer (type)                Output Shape              Param #   \n",
      "=================================================================\n",
      " conv1d (Conv1D)             (None, 3, 32)             96        \n",
      "                                                                 \n",
      " batch_normalization (BatchN  (None, 3, 32)            128       \n",
      " ormalization)                                                   \n",
      "                                                                 \n",
      " dropout (Dropout)           (None, 3, 32)             0         \n",
      "                                                                 \n",
      " conv1d_1 (Conv1D)           (None, 2, 64)             4160      \n",
      "                                                                 \n",
      " batch_normalization_1 (Batc  (None, 2, 64)            256       \n",
      " hNormalization)                                                 \n",
      "                                                                 \n",
      " dropout_1 (Dropout)         (None, 2, 64)             0         \n",
      "                                                                 \n",
      " flatten (Flatten)           (None, 128)               0         \n",
      "                                                                 \n",
      " dense (Dense)               (None, 64)                8256      \n",
      "                                                                 \n",
      " dropout_2 (Dropout)         (None, 64)                0         \n",
      "                                                                 \n",
      " dense_1 (Dense)             (None, 1)                 65        \n",
      "                                                                 \n",
      "=================================================================\n",
      "Total params: 12,961\n",
      "Trainable params: 12,769\n",
      "Non-trainable params: 192\n",
      "_________________________________________________________________\n"
     ]
    }
   ],
   "source": [
    "model.summary()"
   ]
  },
  {
   "cell_type": "markdown",
   "id": "7b75bdfb",
   "metadata": {},
   "source": [
    "# Compile the Model"
   ]
  },
  {
   "cell_type": "code",
   "execution_count": 14,
   "id": "91124540",
   "metadata": {},
   "outputs": [
    {
     "name": "stderr",
     "output_type": "stream",
     "text": [
      "WARNING:absl:`lr` is deprecated in Keras optimizer, please use `learning_rate` or use the legacy optimizer, e.g.,tf.keras.optimizers.legacy.Adam.\n"
     ]
    }
   ],
   "source": [
    "model.compile(optimizer = Adam(lr=0.0001), loss = 'binary_crossentropy', metrics=['accuracy'])"
   ]
  },
  {
   "cell_type": "markdown",
   "id": "94d967dd",
   "metadata": {},
   "source": [
    "# Train the Model"
   ]
  },
  {
   "cell_type": "code",
   "execution_count": 15,
   "id": "adf17290",
   "metadata": {},
   "outputs": [
    {
     "name": "stdout",
     "output_type": "stream",
     "text": [
      "Epoch 1/20\n",
      "24576/24576 [==============================] - 134s 5ms/step - loss: 0.0074 - accuracy: 0.9988 - val_loss: 0.0045 - val_accuracy: 0.9992\n",
      "Epoch 2/20\n",
      "24576/24576 [==============================] - 159s 6ms/step - loss: 0.0050 - accuracy: 0.9991 - val_loss: 0.0042 - val_accuracy: 0.9992\n",
      "Epoch 3/20\n",
      "24576/24576 [==============================] - 220s 9ms/step - loss: 0.0047 - accuracy: 0.9991 - val_loss: 0.0037 - val_accuracy: 0.9992\n",
      "Epoch 4/20\n",
      "24576/24576 [==============================] - 76s 3ms/step - loss: 0.0045 - accuracy: 0.9991 - val_loss: 0.0038 - val_accuracy: 0.9992\n",
      "Epoch 5/20\n",
      "24576/24576 [==============================] - 72s 3ms/step - loss: 0.0047 - accuracy: 0.9991 - val_loss: 0.0036 - val_accuracy: 0.9993\n",
      "Epoch 6/20\n",
      "24576/24576 [==============================] - 72s 3ms/step - loss: 0.0045 - accuracy: 0.9991 - val_loss: 0.0038 - val_accuracy: 0.9993\n",
      "Epoch 7/20\n",
      "24576/24576 [==============================] - 97s 4ms/step - loss: 0.0046 - accuracy: 0.9991 - val_loss: 0.0036 - val_accuracy: 0.9993\n",
      "Epoch 8/20\n",
      "24576/24576 [==============================] - 55s 2ms/step - loss: 0.0045 - accuracy: 0.9991 - val_loss: 0.0035 - val_accuracy: 0.9993\n",
      "Epoch 9/20\n",
      "24576/24576 [==============================] - 53s 2ms/step - loss: 0.0045 - accuracy: 0.9991 - val_loss: 0.0040 - val_accuracy: 0.9992\n",
      "Epoch 10/20\n",
      "24576/24576 [==============================] - 53s 2ms/step - loss: 0.0043 - accuracy: 0.9992 - val_loss: 0.0035 - val_accuracy: 0.9993\n",
      "Epoch 11/20\n",
      "24576/24576 [==============================] - 117s 5ms/step - loss: 0.0043 - accuracy: 0.9991 - val_loss: 0.0035 - val_accuracy: 0.9992\n",
      "Epoch 12/20\n",
      "24576/24576 [==============================] - 54s 2ms/step - loss: 0.0045 - accuracy: 0.9991 - val_loss: 0.0035 - val_accuracy: 0.9993\n",
      "Epoch 13/20\n",
      "24576/24576 [==============================] - 53s 2ms/step - loss: 0.0044 - accuracy: 0.9992 - val_loss: 0.0040 - val_accuracy: 0.9993\n",
      "Epoch 14/20\n",
      "24576/24576 [==============================] - 56s 2ms/step - loss: 0.0043 - accuracy: 0.9992 - val_loss: 0.0039 - val_accuracy: 0.9992\n",
      "Epoch 15/20\n",
      "24576/24576 [==============================] - 84s 3ms/step - loss: 0.0043 - accuracy: 0.9991 - val_loss: 0.0034 - val_accuracy: 0.9992\n",
      "Epoch 16/20\n",
      "24576/24576 [==============================] - 71s 3ms/step - loss: 0.0042 - accuracy: 0.9991 - val_loss: 0.0035 - val_accuracy: 0.9992\n",
      "Epoch 17/20\n",
      "24576/24576 [==============================] - 62s 3ms/step - loss: 0.0043 - accuracy: 0.9992 - val_loss: 0.0037 - val_accuracy: 0.9992\n",
      "Epoch 18/20\n",
      "24576/24576 [==============================] - 57s 2ms/step - loss: 0.0043 - accuracy: 0.9992 - val_loss: 0.0034 - val_accuracy: 0.9992\n",
      "Epoch 19/20\n",
      "24576/24576 [==============================] - 56s 2ms/step - loss: 0.0043 - accuracy: 0.9991 - val_loss: 0.0036 - val_accuracy: 0.9993\n",
      "Epoch 20/20\n",
      "24576/24576 [==============================] - 49s 2ms/step - loss: 0.0042 - accuracy: 0.9992 - val_loss: 0.0034 - val_accuracy: 0.9993\n"
     ]
    }
   ],
   "source": [
    "model_training_results = model.fit(X_train, y_train, epochs=epochs, validation_data=(X_test,y_test), verbose=1)"
   ]
  },
  {
   "cell_type": "markdown",
   "id": "04bcf70a",
   "metadata": {},
   "source": [
    "# To Check if the model is overfitting or underfitting"
   ]
  },
  {
   "cell_type": "code",
   "execution_count": 16,
   "id": "290085a2",
   "metadata": {},
   "outputs": [
    {
     "name": "stdout",
     "output_type": "stream",
     "text": [
      "24576/24576 [==============================] - 18s 707us/step\n",
      "8192/8192 [==============================] - 7s 810us/step\n"
     ]
    }
   ],
   "source": [
    "y_train_pred_cnn = model.predict(X_train)\n",
    "y_val_pred_cnn = model.predict(X_test)\n",
    "\n",
    "# Convert predictions to binary format (0 or 1)\n",
    "y_train_pred_cnn_binary = np.where(y_train_pred_cnn > 0.5, 1, 0)\n",
    "y_test_pred_cnn_binary = np.where(y_val_pred_cnn > 0.5, 1, 0)\n",
    "\n",
    "# Calculate accuracy scores\n",
    "train_accuracy_cnn = accuracy_score(y_train, y_train_pred_cnn_binary)\n",
    "val_accuracy_cnn = accuracy_score(y_test, y_test_pred_cnn_binary)"
   ]
  },
  {
   "cell_type": "code",
   "execution_count": 17,
   "id": "27f25609",
   "metadata": {},
   "outputs": [
    {
     "name": "stdout",
     "output_type": "stream",
     "text": [
      "Training Accuracy: 1\n",
      "Validation Accuracy: 1\n"
     ]
    }
   ],
   "source": [
    "train_accuracy = round(train_accuracy_cnn)\n",
    "val_accuracy = round(val_accuracy_cnn)\n",
    "print(\"Training Accuracy:\", train_accuracy )\n",
    "print(\"Validation Accuracy:\",  val_accuracy)\n"
   ]
  },
  {
   "cell_type": "code",
   "execution_count": 18,
   "id": "050cb122",
   "metadata": {},
   "outputs": [
    {
     "name": "stdout",
     "output_type": "stream",
     "text": [
      "The model's performance on training and validation sets are similar\n"
     ]
    }
   ],
   "source": [
    "if train_accuracy > val_accuracy:\n",
    "    print(\"The model may be overfitting.\")\n",
    "elif train_accuracy < val_accuracy:\n",
    "    print(\"The model may be underfitting.\")\n",
    "else:\n",
    "    print(\"The model's performance on training and validation sets are similar\")\n"
   ]
  },
  {
   "cell_type": "markdown",
   "id": "c8d689ad",
   "metadata": {},
   "source": [
    "# Predicting a new result"
   ]
  },
  {
   "cell_type": "code",
   "execution_count": 32,
   "id": "81c0af66",
   "metadata": {
    "scrolled": false
   },
   "outputs": [
    {
     "name": "stdout",
     "output_type": "stream",
     "text": [
      "1/1 [==============================] - 0s 17ms/step\n",
      "[[1.]]\n"
     ]
    }
   ],
   "source": [
    " \n",
    "input_data = np.array([[4,181.00, 181.00,0.00]])\n",
    "\n",
    " \n",
    "# Adjust the input shape according to your model's requirements\n",
    "input_data_reshaped = input_data.reshape((1, input_data.shape[1], 1))  # (batch_size, sequence_length, num_features)\n",
    "\n",
    "# Make predictions using the reshaped input data\n",
    "predictions = model.predict(input_data_reshaped)\n",
    "\n",
    "# Print the predictions\n",
    "print(predictions)\n"
   ]
  },
  {
   "cell_type": "code",
   "execution_count": 34,
   "id": "cdabd0f0",
   "metadata": {},
   "outputs": [
    {
     "name": "stdout",
     "output_type": "stream",
     "text": [
      "1/1 [==============================] - 0s 20ms/step\n",
      "[[0.]]\n"
     ]
    }
   ],
   "source": [
    " \n",
    "input_data = np.array([[1,9839.64, 170136.0,160296.36]])\n",
    "\n",
    " \n",
    "# Adjust the input shape according to your model's requirements\n",
    "input_data_reshaped = input_data.reshape((1, input_data.shape[1], 1))  # (batch_size, sequence_length, num_features)\n",
    "\n",
    "# Make predictions using the reshaped input data\n",
    "predictions = model.predict(input_data_reshaped)\n",
    "\n",
    "# Print the predictions\n",
    "print(predictions)\n"
   ]
  },
  {
   "cell_type": "markdown",
   "id": "f4051fd7",
   "metadata": {},
   "source": [
    "# Prediciting the test set results"
   ]
  },
  {
   "cell_type": "code",
   "execution_count": 20,
   "id": "2702b6b1",
   "metadata": {},
   "outputs": [
    {
     "name": "stdout",
     "output_type": "stream",
     "text": [
      "8192/8192 [==============================] - 7s 846us/step\n"
     ]
    }
   ],
   "source": [
    "y_pred = model.predict(X_test)"
   ]
  },
  {
   "cell_type": "code",
   "execution_count": 21,
   "id": "c8cc4189",
   "metadata": {},
   "outputs": [],
   "source": [
    "threshold = 0.5   #A threshold of 0.5 is often chosen when there is no specific preference for precision or recall. \n",
    "                  #It provides a balanced trade-off between the two metrics.\n",
    "y_pred_binary = np.where(y_pred >= threshold, 1, 0)"
   ]
  },
  {
   "cell_type": "markdown",
   "id": "ebf4075a",
   "metadata": {},
   "source": [
    "# Accuracy"
   ]
  },
  {
   "cell_type": "code",
   "execution_count": 22,
   "id": "3f9fd447",
   "metadata": {},
   "outputs": [
    {
     "data": {
      "text/plain": [
       "99.93"
      ]
     },
     "execution_count": 22,
     "metadata": {},
     "output_type": "execute_result"
    }
   ],
   "source": [
    "accuracy = accuracy_score(y_test,y_pred_binary)\n",
    "round(accuracy*100,2)"
   ]
  },
  {
   "cell_type": "markdown",
   "id": "9eb9931e",
   "metadata": {},
   "source": [
    "# Classification Report"
   ]
  },
  {
   "cell_type": "code",
   "execution_count": 23,
   "id": "c970579f",
   "metadata": {},
   "outputs": [
    {
     "name": "stdout",
     "output_type": "stream",
     "text": [
      "              precision    recall  f1-score   support\n",
      "\n",
      "           0       1.00      1.00      1.00    261865\n",
      "           1       0.88      0.38      0.53       279\n",
      "\n",
      "    accuracy                           1.00    262144\n",
      "   macro avg       0.94      0.69      0.76    262144\n",
      "weighted avg       1.00      1.00      1.00    262144\n",
      "\n"
     ]
    },
    {
     "data": {
      "text/plain": [
       "'\\n0- No Fraud\\n1- Fraud\\n'"
      ]
     },
     "execution_count": 23,
     "metadata": {},
     "output_type": "execute_result"
    }
   ],
   "source": [
    "print(classification_report(y_test, y_pred_binary))\n",
    "\n",
    "'''\n",
    "0- No Fraud\n",
    "1- Fraud\n",
    "'''"
   ]
  },
  {
   "cell_type": "markdown",
   "id": "8ca14ff3",
   "metadata": {},
   "source": [
    "# ROC Curve"
   ]
  },
  {
   "cell_type": "code",
   "execution_count": 24,
   "id": "64a0e619",
   "metadata": {},
   "outputs": [
    {
     "name": "stdout",
     "output_type": "stream",
     "text": [
      "8192/8192 [==============================] - 6s 749us/step\n"
     ]
    },
    {
     "data": {
      "image/png": "[encoded data removed]",
      "text/plain": [
       "<Figure size 432x288 with 1 Axes>"
      ]
     },
     "metadata": {
      "needs_background": "light"
     },
     "output_type": "display_data"
    }
   ],
   "source": [
    "# Make predictions on the test set\n",
    "y_pred_proba = model.predict(X_test)\n",
    "\n",
    "# Calculate ROC AUC score\n",
    "ann_roc_auc = roc_auc_score(y_test, y_pred_proba)\n",
    "\n",
    "# Calculate ROC curve\n",
    "fpr, tpr, thresholds = roc_curve(y_test, y_pred_proba)\n",
    "\n",
    "# Plot ROC curve\n",
    "plt.figure()\n",
    "plt.plot(fpr, tpr, label='CNN Classifier (area = %0.2f)' % ann_roc_auc)\n",
    "plt.plot([0, 1], [0, 1],'r--')\n",
    "plt.xlim([0.0, 1.0])\n",
    "plt.ylim([0.0, 1.05])\n",
    "plt.xlabel('False Positive Rate')\n",
    "plt.ylabel('True Positive Rate')\n",
    "plt.title('Receiver Operating Characteristic')\n",
    "plt.legend(loc=\"lower right\")\n",
    "plt.show()\n"
   ]
  },
  {
   "cell_type": "markdown",
   "id": "15f7fd71",
   "metadata": {},
   "source": [
    "# Precision-Recall Curve"
   ]
  },
  {
   "cell_type": "code",
   "execution_count": 25,
   "id": "14a76e94",
   "metadata": {},
   "outputs": [
    {
     "name": "stdout",
     "output_type": "stream",
     "text": [
      "24576/24576 [==============================] - 26s 1ms/step\n"
     ]
    },
    {
     "data": {
      "image/png": "[encoded data removed]",
      "text/plain": [
       "<Figure size 432x288 with 1 Axes>"
      ]
     },
     "metadata": {
      "needs_background": "light"
     },
     "output_type": "display_data"
    },
    {
     "name": "stdout",
     "output_type": "stream",
     "text": [
      "AUC-PRC: 0.5690112528282909\n"
     ]
    }
   ],
   "source": [
    "y_prob_train_ann = model.predict(X_train)\n",
    "\n",
    "# Calculate precision-recall curve\n",
    "precision_ann, recall_ann, _ = precision_recall_curve(y_train, y_prob_train_ann)\n",
    "\n",
    "# Plot precision-recall curve\n",
    "plt.fill_between(recall_ann, precision_ann)\n",
    "plt.ylabel(\"Precision\")\n",
    "plt.xlabel(\"Recall\")\n",
    "plt.title(\"Train Precision-Recall curve\")\n",
    "plt.show()\n",
    "from sklearn.metrics import precision_recall_curve, auc\n",
    "auc_prc = auc(recall_ann, precision_ann)\n",
    "print(\"AUC-PRC:\", auc_prc)"
   ]
  },
  {
   "cell_type": "markdown",
   "id": "497fecd1",
   "metadata": {},
   "source": [
    "# Confusion Matrix"
   ]
  },
  {
   "cell_type": "code",
   "execution_count": 26,
   "id": "b1eb8ee3",
   "metadata": {},
   "outputs": [
    {
     "data": {
      "image/png": "[encoded data removed]",
      "text/plain": [
       "<Figure size 576x432 with 1 Axes>"
      ]
     },
     "metadata": {
      "needs_background": "light"
     },
     "output_type": "display_data"
    }
   ],
   "source": [
    "# Compute confusion matrix\n",
    "cm = confusion_matrix(y_test, y_pred_binary)\n",
    "\n",
    "# Plot confusion matrix\n",
    "plt.figure(figsize=(8, 6))\n",
    "sns.heatmap(cm, annot=True, fmt='d', cmap='Blues', cbar=False)\n",
    "plt.xlabel('Predicted labels')\n",
    "plt.ylabel('True labels')\n",
    "plt.title('Confusion Matrix')\n",
    "plt.show()\n"
   ]
  },
  {
   "cell_type": "markdown",
   "id": "f6163821",
   "metadata": {},
   "source": [
    "# Calibration Curve"
   ]
  },
  {
   "cell_type": "code",
   "execution_count": 27,
   "id": "8ea42340",
   "metadata": {},
   "outputs": [
    {
     "name": "stdout",
     "output_type": "stream",
     "text": [
      "24576/24576 [==============================] - 19s 760us/step\n"
     ]
    },
    {
     "data": {
      "image/png": "[encoded data removed]",
      "text/plain": [
       "<Figure size 432x288 with 1 Axes>"
      ]
     },
     "metadata": {
      "needs_background": "light"
     },
     "output_type": "display_data"
    }
   ],
   "source": [
    "# Get predicted probabilities for the training set\n",
    "y_prob_train_ann = model.predict(X_train)\n",
    "\n",
    "# Calculate calibration curve\n",
    "prob_true, prob_pred = calibration_curve(y_train, y_prob_train_ann, n_bins=10)\n",
    "\n",
    "# Plot calibration curve\n",
    "plt.plot(prob_pred, prob_true, marker='o', linestyle='-', label='Calibration Curve')\n",
    "plt.plot([0, 1], [0, 1], linestyle='--', color='gray', label='Perfectly calibrated')\n",
    "plt.xlabel('Mean Predicted Probability')\n",
    "plt.ylabel('Fraction of Positives')\n",
    "plt.title('Calibration Curve')\n",
    "plt.legend()\n",
    "plt.show()\n"
   ]
  },
  {
   "cell_type": "code",
   "execution_count": null,
   "id": "280d81bc",
   "metadata": {},
   "outputs": [],
   "source": []
  }
 ],
 "metadata": {
  "kernelspec": {
   "display_name": "Python 3 (ipykernel)",
   "language": "python",
   "name": "python3"
  },
  "language_info": {
   "codemirror_mode": {
    "name": "ipython",
    "version": 3
   },
   "file_extension": ".py",
   "mimetype": "text/x-python",
   "name": "python",
   "nbconvert_exporter": "python",
   "pygments_lexer": "ipython3",
   "version": "3.10.0"
  }
 },
 "nbformat": 4,
 "nbformat_minor": 5
}
